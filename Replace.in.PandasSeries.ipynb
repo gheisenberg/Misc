{
 "cells": [
  {
   "cell_type": "code",
   "execution_count": 6,
   "id": "178309b6-c3a2-4b57-a677-4f6b336c433a",
   "metadata": {},
   "outputs": [
    {
     "name": "stdout",
     "output_type": "stream",
     "text": [
      "<class 'pandas.core.series.Series'>\n",
      "Java       20000\n",
      "Spark      Hello\n",
      "PySpark    23000\n",
      "Pandas     28000\n",
      "NumPy      55000\n",
      "Python     23000\n",
      "Oracle     28000\n",
      "dtype: object\n"
     ]
    },
    {
     "data": {
      "text/plain": [
       "'\\n# Replace with multiple values\\nser2 = ser.replace(to_replace=[20000,23000], value=50000)\\nprint(ser2)\\n\\n# Replace with same value for multiple\\nser2 = ser.replace([20000,23000], 50000)\\nprint(ser2)\\n\\n# Replace with dict\\nser2 = ser.replace({23000 : None})\\nprint(ser2)\\n'"
      ]
     },
     "execution_count": 6,
     "metadata": {},
     "output_type": "execute_result"
    }
   ],
   "source": [
    "import pandas as pd\n",
    "  \n",
    "# Create the Series\n",
    "ser = pd.Series([20000,'Hello',23000,28000,55000,23000,28000])\n",
    "  \n",
    "# Create the Index\n",
    "index = ['Java','Spark','PySpark','Pandas','NumPy','Python',\"Oracle\"]\n",
    "  \n",
    "# Set the index\n",
    "ser.index = index\n",
    "print(type(ser))\n",
    "\n",
    "# Use Series.replace() function\n",
    "ser2 = ser.replace(to_replace = 'Java', value = 'yo')\n",
    "print(ser2) \n",
    "'''\n",
    "# Replace with multiple values\n",
    "ser2 = ser.replace(to_replace=[20000,23000], value=50000)\n",
    "print(ser2)\n",
    "\n",
    "# Replace with same value for multiple\n",
    "ser2 = ser.replace([20000,23000], 50000)\n",
    "print(ser2)\n",
    "\n",
    "# Replace with dict\n",
    "ser2 = ser.replace({23000 : None})\n",
    "print(ser2)\n",
    "'''"
   ]
  },
  {
   "cell_type": "code",
   "execution_count": null,
   "id": "59993464-74a2-4737-9099-78b1e72ba59f",
   "metadata": {},
   "outputs": [],
   "source": []
  }
 ],
 "metadata": {
  "kernelspec": {
   "display_name": "Python 3 (ipykernel)",
   "language": "python",
   "name": "python3"
  },
  "language_info": {
   "codemirror_mode": {
    "name": "ipython",
    "version": 3
   },
   "file_extension": ".py",
   "mimetype": "text/x-python",
   "name": "python",
   "nbconvert_exporter": "python",
   "pygments_lexer": "ipython3",
   "version": "3.8.11"
  }
 },
 "nbformat": 4,
 "nbformat_minor": 5
}
