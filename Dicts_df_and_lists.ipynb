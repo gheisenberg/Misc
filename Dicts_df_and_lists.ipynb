{
 "cells": [
  {
   "cell_type": "code",
   "execution_count": 5,
   "metadata": {},
   "outputs": [
    {
     "name": "stdout",
     "output_type": "stream",
     "text": [
      "[[1], [2], [3], [4]]\n",
      "[1]\n",
      "<class 'dict'>\n",
      "<class 'list'>\n",
      "<class 'pandas.core.frame.DataFrame'>\n",
      "[1, 2, 3, 4]\n",
      "1\n",
      "4\n"
     ]
    }
   ],
   "source": [
    "# working with dicts, dataframes and lists (of lists)!!!\n",
    "# good source: https://datatofish.com/convert-pandas-dataframe-to-list/\n",
    "\n",
    "import pandas as pd\n",
    "\n",
    "products = {'Product': ['Tablet','iPhone','Laptop','Monitor'],\n",
    "            'Price': [250,800,1200,300],\n",
    "            'Amount': [1,2,3,4]\n",
    "            }\n",
    "\n",
    "#df = pd.DataFrame(products, columns= ['Product', 'Amount'])\n",
    "df = pd.DataFrame(products, columns= ['Amount'])\n",
    "\n",
    "products_list = df.values.tolist()\n",
    "print (products_list)\n",
    "print (products_list[0])\n",
    "print(type(products))\n",
    "print(type(products_list))\n",
    "print(type(df))\n",
    "\n",
    "# --------------------------------\n",
    "\n",
    "# compare with line above and see the difference \n",
    "amount = df['Amount'].values.tolist()\n",
    "print (amount)\n",
    "print (amount[0])\n",
    "print (amount[0]+3)#works"
   ]
  },
  {
   "cell_type": "code",
   "execution_count": null,
   "metadata": {},
   "outputs": [],
   "source": []
  }
 ],
 "metadata": {
  "kernelspec": {
   "display_name": "Python 3",
   "language": "python",
   "name": "python3"
  },
  "language_info": {
   "codemirror_mode": {
    "name": "ipython",
    "version": 3
   },
   "file_extension": ".py",
   "mimetype": "text/x-python",
   "name": "python",
   "nbconvert_exporter": "python",
   "pygments_lexer": "ipython3",
   "version": "3.7.7"
  }
 },
 "nbformat": 4,
 "nbformat_minor": 4
}
