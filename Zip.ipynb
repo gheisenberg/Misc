{
 "cells": [
  {
   "cell_type": "code",
   "execution_count": 1,
   "id": "7f62ec96-ca21-49c4-9ffc-649c2e22e945",
   "metadata": {},
   "outputs": [
    {
     "name": "stdout",
     "output_type": "stream",
     "text": [
      "[('Java', 14, 'a'), ('Python', 3, 'b'), ('JavaScript', 6, 'x')]\n"
     ]
    }
   ],
   "source": [
    "languages = ['Java', 'Python', 'JavaScript']\n",
    "sources = ['a', 'b', 'x']\n",
    "versions = [14, 3, 6]\n",
    "\n",
    "result = zip(languages, versions, sources)\n",
    "print(list(result))"
   ]
  },
  {
   "cell_type": "code",
   "execution_count": null,
   "id": "1373309e-eb31-4c64-887b-8cd1843ae73b",
   "metadata": {},
   "outputs": [],
   "source": []
  }
 ],
 "metadata": {
  "kernelspec": {
   "display_name": "Python 3 (ipykernel)",
   "language": "python",
   "name": "python3"
  },
  "language_info": {
   "codemirror_mode": {
    "name": "ipython",
    "version": 3
   },
   "file_extension": ".py",
   "mimetype": "text/x-python",
   "name": "python",
   "nbconvert_exporter": "python",
   "pygments_lexer": "ipython3",
   "version": "3.8.11"
  }
 },
 "nbformat": 4,
 "nbformat_minor": 5
}
